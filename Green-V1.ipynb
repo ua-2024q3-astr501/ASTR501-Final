version https://git-lfs.github.com/spec/v1
oid sha256:2c70078e3d1475c1f2e540e52338ae21264df207e4710cfab7b9d56567e0ef57
size 237532682
